{
 "cells": [
  {
   "cell_type": "code",
   "execution_count": 1,
   "metadata": {},
   "outputs": [],
   "source": [
    "import pandas as pd\n",
    "import numpy as np\n",
    "import xgboost as xgb\n",
    "from sklearn.model_selection import train_test_split\n",
    "from sklearn.model_selection import KFold\n",
    "from sklearn.metrics import accuracy_score, precision_score, recall_score, f1_score, confusion_matrix\n",
    "from sklearn.model_selection import GridSearchCV\n",
    "from sklearn.preprocessing import MinMaxScaler\n",
    "from sklearn.preprocessing import LabelEncoder,OneHotEncoder"
   ]
  },
  {
   "cell_type": "code",
   "execution_count": 2,
   "metadata": {},
   "outputs": [],
   "source": [
    "train_data = pd.read_csv(\"type1_train.csv\")\n",
    "valid_data = pd.read_csv(\"type1_valid.csv\")\n",
    "test_data = pd.read_csv(\"type1_test.csv\")"
   ]
  },
  {
   "cell_type": "code",
   "execution_count": 17,
   "metadata": {},
   "outputs": [],
   "source": [
    "train_data = pd.read_csv(\"type2_train.csv\")\n",
    "valid_data = pd.read_csv(\"type2_valid.csv\")\n",
    "test_data = pd.read_csv(\"type2_test.csv\")"
   ]
  },
  {
   "cell_type": "code",
   "execution_count": 18,
   "metadata": {},
   "outputs": [],
   "source": [
    "categorical = ['Sex','HTN','DM']"
   ]
  },
  {
   "cell_type": "code",
   "execution_count": 19,
   "metadata": {},
   "outputs": [],
   "source": [
    "for feature in categorical:\n",
    "    le = LabelEncoder()\n",
    "    le = le.fit(train_data[feature])\n",
    "    train_data[feature] = le.transform(train_data[feature])\n",
    "for feature in categorical:\n",
    "    le = LabelEncoder()\n",
    "    le = le.fit(valid_data[feature])\n",
    "    valid_data[feature] = le.transform(valid_data[feature])\n",
    "\n",
    "for feature in categorical:\n",
    "    le = LabelEncoder()\n",
    "    le = le.fit(test_data[feature])\n",
    "    test_data[feature] = le.transform(test_data[feature])"
   ]
  },
  {
   "cell_type": "code",
   "execution_count": 20,
   "metadata": {},
   "outputs": [],
   "source": [
    "man_train = train_data[train_data['Sex'] == 1]\n",
    "woman_train = train_data[train_data['Sex'] == 0]\n",
    "\n",
    "man_valid = valid_data[valid_data['Sex'] == 1]\n",
    "woman_valid = valid_data[valid_data['Sex'] == 0]\n",
    "\n",
    "man_test = test_data[test_data['Sex'] == 1]\n",
    "woman_test = test_data[test_data['Sex'] == 0]"
   ]
  },
  {
   "cell_type": "code",
   "execution_count": 21,
   "metadata": {},
   "outputs": [],
   "source": [
    "x_train = train_data.drop(['CarotidUS'], axis=1)\n",
    "y_train = train_data['CarotidUS']\n",
    "x_valid = valid_data.drop(['CarotidUS'], axis=1)\n",
    "y_valid = valid_data['CarotidUS']\n",
    "x_test = test_data.drop(['CarotidUS'], axis=1)\n",
    "y_test = test_data['CarotidUS']"
   ]
  },
  {
   "cell_type": "code",
   "execution_count": 28,
   "metadata": {},
   "outputs": [],
   "source": [
    "x_train = woman_train.drop(['CarotidUS'], axis=1)\n",
    "y_train = woman_train['CarotidUS']\n",
    "x_valid = woman_valid.drop(['CarotidUS'], axis=1)\n",
    "y_valid = woman_valid['CarotidUS']\n",
    "x_test = woman_test.drop(['CarotidUS'], axis=1)\n",
    "y_test = woman_test['CarotidUS']"
   ]
  },
  {
   "cell_type": "code",
   "execution_count": 7,
   "metadata": {},
   "outputs": [],
   "source": [
    "params = {\n",
    "    'n_estimators': [100, 200, 300], # Number of trees in the forest\n",
    "    'max_depth': [3, 5, 7], # Maximum depth of each tree\n",
    "    'learning_rate': [0.1, 0.01, 0.001], # Learning rate\n",
    "}"
   ]
  },
  {
   "cell_type": "code",
   "execution_count": 29,
   "metadata": {},
   "outputs": [
    {
     "name": "stdout",
     "output_type": "stream",
     "text": [
      "[01:39:02] WARNING: C:\\buildkite-agent\\builds\\buildkite-windows-cpu-autoscaling-group-i-0fdc6d574b9c0d168-1\\xgboost\\xgboost-ci-windows\\src\\learner.cc:767: \n",
      "Parameters: { \"max_features\" } are not used.\n",
      "\n",
      "n_estimators: 100, max_depth: 3, learning_rate: 0.1\n",
      "accuracy: 0.7780, precision: 0.6905, recall: 0.2479, f1: 0.3648\n",
      "[01:39:02] WARNING: C:\\buildkite-agent\\builds\\buildkite-windows-cpu-autoscaling-group-i-0fdc6d574b9c0d168-1\\xgboost\\xgboost-ci-windows\\src\\learner.cc:767: \n",
      "Parameters: { \"max_features\" } are not used.\n",
      "\n",
      "n_estimators: 100, max_depth: 3, learning_rate: 0.01\n",
      "accuracy: 0.7714, precision: 0.8824, recall: 0.1282, f1: 0.2239\n",
      "[01:39:02] WARNING: C:\\buildkite-agent\\builds\\buildkite-windows-cpu-autoscaling-group-i-0fdc6d574b9c0d168-1\\xgboost\\xgboost-ci-windows\\src\\learner.cc:767: \n",
      "Parameters: { \"max_features\" } are not used.\n",
      "\n",
      "n_estimators: 100, max_depth: 3, learning_rate: 0.001\n",
      "accuracy: 0.7868, precision: 0.7778, recall: 0.2393, f1: 0.3660\n",
      "[01:39:02] WARNING: C:\\buildkite-agent\\builds\\buildkite-windows-cpu-autoscaling-group-i-0fdc6d574b9c0d168-1\\xgboost\\xgboost-ci-windows\\src\\learner.cc:767: \n",
      "Parameters: { \"max_features\" } are not used.\n",
      "\n",
      "n_estimators: 100, max_depth: 5, learning_rate: 0.1\n",
      "accuracy: 0.7780, precision: 0.6333, recall: 0.3248, f1: 0.4294\n",
      "[01:39:03] WARNING: C:\\buildkite-agent\\builds\\buildkite-windows-cpu-autoscaling-group-i-0fdc6d574b9c0d168-1\\xgboost\\xgboost-ci-windows\\src\\learner.cc:767: \n",
      "Parameters: { \"max_features\" } are not used.\n",
      "\n",
      "n_estimators: 100, max_depth: 5, learning_rate: 0.01\n",
      "accuracy: 0.7802, precision: 0.7576, recall: 0.2137, f1: 0.3333\n",
      "[01:39:03] WARNING: C:\\buildkite-agent\\builds\\buildkite-windows-cpu-autoscaling-group-i-0fdc6d574b9c0d168-1\\xgboost\\xgboost-ci-windows\\src\\learner.cc:767: \n",
      "Parameters: { \"max_features\" } are not used.\n",
      "\n",
      "n_estimators: 100, max_depth: 5, learning_rate: 0.001\n",
      "accuracy: 0.7868, precision: 0.7632, recall: 0.2479, f1: 0.3742\n",
      "[01:39:04] WARNING: C:\\buildkite-agent\\builds\\buildkite-windows-cpu-autoscaling-group-i-0fdc6d574b9c0d168-1\\xgboost\\xgboost-ci-windows\\src\\learner.cc:767: \n",
      "Parameters: { \"max_features\" } are not used.\n",
      "\n",
      "n_estimators: 100, max_depth: 7, learning_rate: 0.1\n",
      "accuracy: 0.7780, precision: 0.6333, recall: 0.3248, f1: 0.4294\n",
      "[01:39:05] WARNING: C:\\buildkite-agent\\builds\\buildkite-windows-cpu-autoscaling-group-i-0fdc6d574b9c0d168-1\\xgboost\\xgboost-ci-windows\\src\\learner.cc:767: \n",
      "Parameters: { \"max_features\" } are not used.\n",
      "\n",
      "n_estimators: 100, max_depth: 7, learning_rate: 0.01\n",
      "accuracy: 0.7846, precision: 0.6939, recall: 0.2906, f1: 0.4096\n",
      "[01:39:06] WARNING: C:\\buildkite-agent\\builds\\buildkite-windows-cpu-autoscaling-group-i-0fdc6d574b9c0d168-1\\xgboost\\xgboost-ci-windows\\src\\learner.cc:767: \n",
      "Parameters: { \"max_features\" } are not used.\n",
      "\n",
      "n_estimators: 100, max_depth: 7, learning_rate: 0.001\n",
      "accuracy: 0.7956, precision: 0.7308, recall: 0.3248, f1: 0.4497\n",
      "[01:39:06] WARNING: C:\\buildkite-agent\\builds\\buildkite-windows-cpu-autoscaling-group-i-0fdc6d574b9c0d168-1\\xgboost\\xgboost-ci-windows\\src\\learner.cc:767: \n",
      "Parameters: { \"max_features\" } are not used.\n",
      "\n",
      "n_estimators: 200, max_depth: 3, learning_rate: 0.1\n",
      "accuracy: 0.7670, precision: 0.6038, recall: 0.2735, f1: 0.3765\n",
      "[01:39:07] WARNING: C:\\buildkite-agent\\builds\\buildkite-windows-cpu-autoscaling-group-i-0fdc6d574b9c0d168-1\\xgboost\\xgboost-ci-windows\\src\\learner.cc:767: \n",
      "Parameters: { \"max_features\" } are not used.\n",
      "\n",
      "n_estimators: 200, max_depth: 3, learning_rate: 0.01\n",
      "accuracy: 0.7758, precision: 0.8571, recall: 0.1538, f1: 0.2609\n",
      "[01:39:07] WARNING: C:\\buildkite-agent\\builds\\buildkite-windows-cpu-autoscaling-group-i-0fdc6d574b9c0d168-1\\xgboost\\xgboost-ci-windows\\src\\learner.cc:767: \n",
      "Parameters: { \"max_features\" } are not used.\n",
      "\n",
      "n_estimators: 200, max_depth: 3, learning_rate: 0.001\n",
      "accuracy: 0.7714, precision: 0.8824, recall: 0.1282, f1: 0.2239\n",
      "[01:39:08] WARNING: C:\\buildkite-agent\\builds\\buildkite-windows-cpu-autoscaling-group-i-0fdc6d574b9c0d168-1\\xgboost\\xgboost-ci-windows\\src\\learner.cc:767: \n",
      "Parameters: { \"max_features\" } are not used.\n",
      "\n",
      "n_estimators: 200, max_depth: 5, learning_rate: 0.1\n",
      "accuracy: 0.7516, precision: 0.5286, recall: 0.3162, f1: 0.3957\n",
      "[01:39:09] WARNING: C:\\buildkite-agent\\builds\\buildkite-windows-cpu-autoscaling-group-i-0fdc6d574b9c0d168-1\\xgboost\\xgboost-ci-windows\\src\\learner.cc:767: \n",
      "Parameters: { \"max_features\" } are not used.\n",
      "\n",
      "n_estimators: 200, max_depth: 5, learning_rate: 0.01\n",
      "accuracy: 0.7780, precision: 0.7000, recall: 0.2393, f1: 0.3567\n",
      "[01:39:10] WARNING: C:\\buildkite-agent\\builds\\buildkite-windows-cpu-autoscaling-group-i-0fdc6d574b9c0d168-1\\xgboost\\xgboost-ci-windows\\src\\learner.cc:767: \n",
      "Parameters: { \"max_features\" } are not used.\n",
      "\n",
      "n_estimators: 200, max_depth: 5, learning_rate: 0.001\n",
      "accuracy: 0.7868, precision: 0.7381, recall: 0.2650, f1: 0.3899\n",
      "[01:39:11] WARNING: C:\\buildkite-agent\\builds\\buildkite-windows-cpu-autoscaling-group-i-0fdc6d574b9c0d168-1\\xgboost\\xgboost-ci-windows\\src\\learner.cc:767: \n",
      "Parameters: { \"max_features\" } are not used.\n",
      "\n",
      "n_estimators: 200, max_depth: 7, learning_rate: 0.1\n",
      "accuracy: 0.7758, precision: 0.6154, recall: 0.3419, f1: 0.4396\n",
      "[01:39:12] WARNING: C:\\buildkite-agent\\builds\\buildkite-windows-cpu-autoscaling-group-i-0fdc6d574b9c0d168-1\\xgboost\\xgboost-ci-windows\\src\\learner.cc:767: \n",
      "Parameters: { \"max_features\" } are not used.\n",
      "\n",
      "n_estimators: 200, max_depth: 7, learning_rate: 0.01\n",
      "accuracy: 0.7780, precision: 0.6600, recall: 0.2821, f1: 0.3952\n",
      "[01:39:13] WARNING: C:\\buildkite-agent\\builds\\buildkite-windows-cpu-autoscaling-group-i-0fdc6d574b9c0d168-1\\xgboost\\xgboost-ci-windows\\src\\learner.cc:767: \n",
      "Parameters: { \"max_features\" } are not used.\n",
      "\n",
      "n_estimators: 200, max_depth: 7, learning_rate: 0.001\n",
      "accuracy: 0.7912, precision: 0.7115, recall: 0.3162, f1: 0.4379\n",
      "[01:39:14] WARNING: C:\\buildkite-agent\\builds\\buildkite-windows-cpu-autoscaling-group-i-0fdc6d574b9c0d168-1\\xgboost\\xgboost-ci-windows\\src\\learner.cc:767: \n",
      "Parameters: { \"max_features\" } are not used.\n",
      "\n",
      "n_estimators: 300, max_depth: 3, learning_rate: 0.1\n",
      "accuracy: 0.7692, precision: 0.6000, recall: 0.3077, f1: 0.4068\n",
      "[01:39:15] WARNING: C:\\buildkite-agent\\builds\\buildkite-windows-cpu-autoscaling-group-i-0fdc6d574b9c0d168-1\\xgboost\\xgboost-ci-windows\\src\\learner.cc:767: \n",
      "Parameters: { \"max_features\" } are not used.\n",
      "\n",
      "n_estimators: 300, max_depth: 3, learning_rate: 0.01\n",
      "accuracy: 0.7780, precision: 0.8333, recall: 0.1709, f1: 0.2837\n",
      "[01:39:16] WARNING: C:\\buildkite-agent\\builds\\buildkite-windows-cpu-autoscaling-group-i-0fdc6d574b9c0d168-1\\xgboost\\xgboost-ci-windows\\src\\learner.cc:767: \n",
      "Parameters: { \"max_features\" } are not used.\n",
      "\n",
      "n_estimators: 300, max_depth: 3, learning_rate: 0.001\n",
      "accuracy: 0.7714, precision: 0.8824, recall: 0.1282, f1: 0.2239\n",
      "[01:39:17] WARNING: C:\\buildkite-agent\\builds\\buildkite-windows-cpu-autoscaling-group-i-0fdc6d574b9c0d168-1\\xgboost\\xgboost-ci-windows\\src\\learner.cc:767: \n",
      "Parameters: { \"max_features\" } are not used.\n",
      "\n",
      "n_estimators: 300, max_depth: 5, learning_rate: 0.1\n",
      "accuracy: 0.7560, precision: 0.5417, recall: 0.3333, f1: 0.4127\n",
      "[01:39:19] WARNING: C:\\buildkite-agent\\builds\\buildkite-windows-cpu-autoscaling-group-i-0fdc6d574b9c0d168-1\\xgboost\\xgboost-ci-windows\\src\\learner.cc:767: \n",
      "Parameters: { \"max_features\" } are not used.\n",
      "\n",
      "n_estimators: 300, max_depth: 5, learning_rate: 0.01\n",
      "accuracy: 0.7824, precision: 0.7368, recall: 0.2393, f1: 0.3613\n",
      "[01:39:20] WARNING: C:\\buildkite-agent\\builds\\buildkite-windows-cpu-autoscaling-group-i-0fdc6d574b9c0d168-1\\xgboost\\xgboost-ci-windows\\src\\learner.cc:767: \n",
      "Parameters: { \"max_features\" } are not used.\n",
      "\n",
      "n_estimators: 300, max_depth: 5, learning_rate: 0.001\n",
      "accuracy: 0.7780, precision: 0.7353, recall: 0.2137, f1: 0.3311\n",
      "[01:39:22] WARNING: C:\\buildkite-agent\\builds\\buildkite-windows-cpu-autoscaling-group-i-0fdc6d574b9c0d168-1\\xgboost\\xgboost-ci-windows\\src\\learner.cc:767: \n",
      "Parameters: { \"max_features\" } are not used.\n",
      "\n",
      "n_estimators: 300, max_depth: 7, learning_rate: 0.1\n",
      "accuracy: 0.7714, precision: 0.6032, recall: 0.3248, f1: 0.4222\n",
      "[01:39:24] WARNING: C:\\buildkite-agent\\builds\\buildkite-windows-cpu-autoscaling-group-i-0fdc6d574b9c0d168-1\\xgboost\\xgboost-ci-windows\\src\\learner.cc:767: \n",
      "Parameters: { \"max_features\" } are not used.\n",
      "\n",
      "n_estimators: 300, max_depth: 7, learning_rate: 0.01\n",
      "accuracy: 0.7802, precision: 0.6604, recall: 0.2991, f1: 0.4118\n",
      "[01:39:27] WARNING: C:\\buildkite-agent\\builds\\buildkite-windows-cpu-autoscaling-group-i-0fdc6d574b9c0d168-1\\xgboost\\xgboost-ci-windows\\src\\learner.cc:767: \n",
      "Parameters: { \"max_features\" } are not used.\n",
      "\n",
      "n_estimators: 300, max_depth: 7, learning_rate: 0.001\n",
      "accuracy: 0.7868, precision: 0.7083, recall: 0.2906, f1: 0.4121\n",
      "best params: {'n_estimators': 100, 'max_depth': 7, 'learning_rate': 0.001}\n",
      "best accuracy: 0.7956\n",
      "[01:39:29] WARNING: C:\\buildkite-agent\\builds\\buildkite-windows-cpu-autoscaling-group-i-0fdc6d574b9c0d168-1\\xgboost\\xgboost-ci-windows\\src\\learner.cc:767: \n",
      "Parameters: { \"max_features\" } are not used.\n",
      "\n",
      "accuracy: 0.6353, precision: 0.7746, recall: 0.2381, f1: 0.3642\n",
      "[[559  32]\n",
      " [352 110]]\n"
     ]
    }
   ],
   "source": [
    "best_acc = 0\n",
    "best_params = {}\n",
    "for n_estimators in params['n_estimators']:\n",
    "    for max_depth in params['max_depth']:\n",
    "        for learning_rate in params['learning_rate']:\n",
    "            xgb_clf = xgb.XGBClassifier(n_estimators = n_estimators, max_depth=max_depth, learning_rate=learning_rate, max_features=7)\n",
    "            xgb_clf.fit(x_train, y_train)\n",
    "            pred = xgb_clf.predict(x_valid)\n",
    "            print('n_estimators: {0}, max_depth: {1}, learning_rate: {2}'.format(n_estimators, max_depth, learning_rate))\n",
    "            print('accuracy: {0:.4f}, precision: {1:.4f}, recall: {2:.4f}, f1: {3:.4f}'.format(accuracy_score(y_valid, pred), precision_score(y_valid, pred), recall_score(y_valid, pred), f1_score(y_valid, pred)))\n",
    "\n",
    "            if accuracy_score(y_valid, pred) > best_acc:\n",
    "                best_acc = accuracy_score(y_valid, pred)\n",
    "                best_params['n_estimators'] = n_estimators\n",
    "                best_params['max_depth'] = max_depth\n",
    "                best_params['learning_rate'] = learning_rate\n",
    "\n",
    "print('best params: {0}'.format(best_params))\n",
    "print('best accuracy: {0:.4f}'.format(best_acc))\n",
    "xgb_clf = xgb.XGBClassifier(n_estimators=best_params['n_estimators'], max_depth=best_params['max_depth'], learning_rate=best_params['learning_rate'], max_features=7)\n",
    "xgb_clf.fit(x_train, y_train)\n",
    "pred = xgb_clf.predict(x_test)\n",
    "print('accuracy: {0:.4f}, precision: {1:.4f}, recall: {2:.4f}, f1: {3:.4f}'.format(accuracy_score(y_test, pred), precision_score(y_test, pred), recall_score(y_test, pred), f1_score(y_test, pred)))\n",
    "print(confusion_matrix(y_test, pred))"
   ]
  },
  {
   "cell_type": "code",
   "execution_count": 23,
   "metadata": {},
   "outputs": [
    {
     "data": {
      "image/png": "[encoded data removed]",
      "text/plain": [
       "<Figure size 640x480 with 2 Axes>"
      ]
     },
     "metadata": {},
     "output_type": "display_data"
    }
   ],
   "source": [
    "import seaborn as sns\n",
    "import matplotlib.pyplot as plt\n",
    "sns.heatmap(confusion_matrix(y_test, pred), annot=True, fmt='d', cmap='Blues')\n",
    "plt.xlabel('Predicted')\n",
    "plt.ylabel('True')\n",
    "plt.show()"
   ]
  },
  {
   "cell_type": "code",
   "execution_count": 30,
   "metadata": {},
   "outputs": [
    {
     "name": "stdout",
     "output_type": "stream",
     "text": [
      "Feature Importances:\n",
      "[0.53706264 0.         0.0537813  0.02442585 0.0178731  0.03133314\n",
      " 0.0201696  0.02501698 0.02061858 0.03545966 0.02972755 0.03287544\n",
      " 0.0207652  0.03247415 0.02806667 0.03281599 0.03196726 0.02556682]\n",
      "\n",
      "Age: 0.537\n",
      "Sex: 0.000\n",
      "HTN: 0.054\n",
      "DM: 0.024\n",
      "HDL: 0.018\n",
      "LDL: 0.031\n",
      "Triglyceride: 0.020\n",
      "Cholesterol: 0.025\n",
      "HOMA: 0.021\n",
      "Insulin: 0.035\n",
      "Ferritin: 0.030\n",
      "HbA1C: 0.033\n",
      "ESR: 0.021\n",
      "Homocysteine: 0.032\n",
      "Apolipoprotein A: 0.028\n",
      "Apolipoprotein B: 0.033\n",
      "Lp(a): 0.032\n",
      "HS-CRP: 0.026\n",
      "[0.53706264 0.         0.0537813  0.02442585 0.0178731  0.03133314\n",
      " 0.0201696  0.02501698 0.02061858 0.03545966 0.02972755 0.03287544\n",
      " 0.0207652  0.03247415 0.02806667 0.03281599 0.03196726 0.02556682]\n"
     ]
    },
    {
     "data": {
      "text/plain": [
       "<Axes: ylabel='Feature'>"
      ]
     },
     "execution_count": 30,
     "metadata": {},
     "output_type": "execute_result"
    },
    {
     "data": {
      "image/png": "[encoded data removed]",
      "text/plain": [
       "<Figure size 1000x600 with 1 Axes>"
      ]
     },
     "metadata": {},
     "output_type": "display_data"
    }
   ],
   "source": [
    "feature = x_test.columns.tolist()\n",
    "print(\"Feature Importances:\\n{0}\\n\".format(xgb_clf.feature_importances_))\n",
    "for name, value in zip(train_data.columns, xgb_clf.feature_importances_):\n",
    "    print('{0}: {1:.3f}'.format(name, value))\n",
    "print(xgb_clf.feature_importances_)\n",
    "feature_importance = pd.DataFrame({'Feature':feature,'Importance':xgb_clf.feature_importances_})\n",
    "feature_importance.sort_values(by=['Importance'], ascending=True, inplace=True)\n",
    "feature_importance.plot(x='Feature', y='Importance', kind='barh', figsize=(10, 6), color='dodgerblue')"
   ]
  }
 ],
 "metadata": {
  "kernelspec": {
   "display_name": "Python 3",
   "language": "python",
   "name": "python3"
  },
  "language_info": {
   "codemirror_mode": {
    "name": "ipython",
    "version": 3
   },
   "file_extension": ".py",
   "mimetype": "text/x-python",
   "name": "python",
   "nbconvert_exporter": "python",
   "pygments_lexer": "ipython3",
   "version": "3.10.9"
  },
  "orig_nbformat": 4
 },
 "nbformat": 4,
 "nbformat_minor": 2
}
