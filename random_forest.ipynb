{
 "cells": [
  {
   "cell_type": "code",
   "execution_count": 2,
   "metadata": {},
   "outputs": [],
   "source": [
    "import pandas as pd\n",
    "import numpy as np\n",
    "from sklearn.ensemble import RandomForestClassifier\n",
    "from sklearn.model_selection import train_test_split\n",
    "from sklearn.model_selection import KFold\n",
    "from sklearn.metrics import accuracy_score, precision_score, recall_score, f1_score, confusion_matrix\n",
    "from sklearn.model_selection import GridSearchCV\n",
    "from sklearn.preprocessing import MinMaxScaler\n",
    "from sklearn.preprocessing import LabelEncoder,OneHotEncoder"
   ]
  },
  {
   "cell_type": "code",
   "execution_count": 3,
   "metadata": {},
   "outputs": [],
   "source": [
    "train_data = pd.read_csv(\"type1_train.csv\")\n",
    "valid_data = pd.read_csv(\"type1_valid.csv\")\n",
    "test_data = pd.read_csv(\"type1_test.csv\")"
   ]
  },
  {
   "cell_type": "code",
   "execution_count": 21,
   "metadata": {},
   "outputs": [],
   "source": [
    "train_data = pd.read_csv(\"type2_train.csv\")\n",
    "valid_data = pd.read_csv(\"type2_valid.csv\")\n",
    "test_data = pd.read_csv(\"type2_test.csv\")"
   ]
  },
  {
   "cell_type": "code",
   "execution_count": 22,
   "metadata": {},
   "outputs": [],
   "source": [
    "categorical = ['Sex','HTN','DM']"
   ]
  },
  {
   "cell_type": "code",
   "execution_count": 23,
   "metadata": {},
   "outputs": [],
   "source": [
    "for feature in categorical:\n",
    "    le = LabelEncoder()\n",
    "    le = le.fit(train_data[feature])\n",
    "    train_data[feature] = le.transform(train_data[feature])\n",
    "for feature in categorical:\n",
    "    le = LabelEncoder()\n",
    "    le = le.fit(valid_data[feature])\n",
    "    valid_data[feature] = le.transform(valid_data[feature])\n",
    "\n",
    "for feature in categorical:\n",
    "    le = LabelEncoder()\n",
    "    le = le.fit(test_data[feature])\n",
    "    test_data[feature] = le.transform(test_data[feature])"
   ]
  },
  {
   "cell_type": "code",
   "execution_count": 24,
   "metadata": {},
   "outputs": [],
   "source": [
    "man_train = train_data[train_data['Sex'] == 1]\n",
    "woman_train = train_data[train_data['Sex'] == 0]\n",
    "\n",
    "man_valid = valid_data[valid_data['Sex'] == 1]\n",
    "woman_valid = valid_data[valid_data['Sex'] == 0]\n",
    "\n",
    "man_test = test_data[test_data['Sex'] == 1]\n",
    "woman_test = test_data[test_data['Sex'] == 0]"
   ]
  },
  {
   "cell_type": "code",
   "execution_count": 25,
   "metadata": {},
   "outputs": [],
   "source": [
    "x_train = train_data.drop(['CarotidUS'], axis=1)\n",
    "y_train = train_data['CarotidUS']\n",
    "x_valid = valid_data.drop(['CarotidUS'], axis=1)\n",
    "y_valid = valid_data['CarotidUS']\n",
    "x_test = test_data.drop(['CarotidUS'], axis=1)\n",
    "y_test = test_data['CarotidUS']"
   ]
  },
  {
   "cell_type": "code",
   "execution_count": 33,
   "metadata": {},
   "outputs": [],
   "source": [
    "x_train = man_train.drop(['CarotidUS'], axis=1)\n",
    "y_train = man_train['CarotidUS']\n",
    "x_valid = man_valid.drop(['CarotidUS'], axis=1)\n",
    "y_valid = man_valid['CarotidUS']\n",
    "x_test = man_test.drop(['CarotidUS'], axis=1)\n",
    "y_test = man_test['CarotidUS']"
   ]
  },
  {
   "cell_type": "code",
   "execution_count": 8,
   "metadata": {},
   "outputs": [],
   "source": [
    "params = {\n",
    "    'max_depth': [2, 3, 5, 10],\n",
    "    'min_samples_split': [2, 3, 5],\n",
    "    'min_samples_leaf': [1, 5, 8]\n",
    "}"
   ]
  },
  {
   "cell_type": "code",
   "execution_count": 34,
   "metadata": {},
   "outputs": [
    {
     "name": "stdout",
     "output_type": "stream",
     "text": [
      "max_depth: 2, min_samples_split: 2, min_samples_leaf: 1\n",
      "accuracy: 0.6917, precision: 0.6416, recall: 0.4879, f1: 0.5543\n",
      "max_depth: 2, min_samples_split: 2, min_samples_leaf: 5\n",
      "accuracy: 0.6865, precision: 0.5954, recall: 0.6308, f1: 0.6126\n",
      "max_depth: 2, min_samples_split: 2, min_samples_leaf: 8\n",
      "accuracy: 0.6848, precision: 0.6114, recall: 0.5429, f1: 0.5751\n",
      "max_depth: 2, min_samples_split: 3, min_samples_leaf: 1\n",
      "accuracy: 0.6900, precision: 0.6356, recall: 0.4945, f1: 0.5562\n",
      "max_depth: 2, min_samples_split: 3, min_samples_leaf: 5\n",
      "accuracy: 0.6917, precision: 0.6561, recall: 0.4527, f1: 0.5358\n",
      "max_depth: 2, min_samples_split: 3, min_samples_leaf: 8\n",
      "accuracy: 0.6883, precision: 0.6599, recall: 0.4264, f1: 0.5180\n",
      "max_depth: 2, min_samples_split: 5, min_samples_leaf: 1\n",
      "accuracy: 0.6917, precision: 0.6283, recall: 0.5275, f1: 0.5735\n",
      "max_depth: 2, min_samples_split: 5, min_samples_leaf: 5\n",
      "accuracy: 0.6908, precision: 0.6286, recall: 0.5209, f1: 0.5697\n",
      "max_depth: 2, min_samples_split: 5, min_samples_leaf: 8\n",
      "accuracy: 0.6926, precision: 0.6170, recall: 0.5736, f1: 0.5945\n",
      "max_depth: 3, min_samples_split: 2, min_samples_leaf: 1\n",
      "accuracy: 0.6865, precision: 0.6041, recall: 0.5868, f1: 0.5953\n",
      "max_depth: 3, min_samples_split: 2, min_samples_leaf: 5\n",
      "accuracy: 0.6891, precision: 0.6017, recall: 0.6176, f1: 0.6095\n",
      "max_depth: 3, min_samples_split: 2, min_samples_leaf: 8\n",
      "accuracy: 0.6839, precision: 0.5910, recall: 0.6352, f1: 0.6123\n",
      "max_depth: 3, min_samples_split: 3, min_samples_leaf: 1\n",
      "accuracy: 0.6908, precision: 0.6052, recall: 0.6132, f1: 0.6092\n",
      "max_depth: 3, min_samples_split: 3, min_samples_leaf: 5\n",
      "accuracy: 0.6926, precision: 0.6107, recall: 0.6000, f1: 0.6053\n",
      "max_depth: 3, min_samples_split: 3, min_samples_leaf: 8\n",
      "accuracy: 0.6883, precision: 0.6017, recall: 0.6110, f1: 0.6063\n",
      "max_depth: 3, min_samples_split: 5, min_samples_leaf: 1\n",
      "accuracy: 0.6943, precision: 0.6183, recall: 0.5802, f1: 0.5986\n",
      "max_depth: 3, min_samples_split: 5, min_samples_leaf: 5\n",
      "accuracy: 0.6883, precision: 0.6017, recall: 0.6110, f1: 0.6063\n",
      "max_depth: 3, min_samples_split: 5, min_samples_leaf: 8\n",
      "accuracy: 0.6848, precision: 0.5974, recall: 0.6066, f1: 0.6020\n",
      "max_depth: 5, min_samples_split: 2, min_samples_leaf: 1\n",
      "accuracy: 0.6900, precision: 0.6039, recall: 0.6132, f1: 0.6085\n",
      "max_depth: 5, min_samples_split: 2, min_samples_leaf: 5\n",
      "accuracy: 0.6848, precision: 0.5970, recall: 0.6088, f1: 0.6028\n",
      "max_depth: 5, min_samples_split: 2, min_samples_leaf: 8\n",
      "accuracy: 0.6865, precision: 0.6013, recall: 0.6000, f1: 0.6007\n",
      "max_depth: 5, min_samples_split: 3, min_samples_leaf: 1\n",
      "accuracy: 0.6917, precision: 0.6094, recall: 0.6000, f1: 0.6047\n",
      "max_depth: 5, min_samples_split: 3, min_samples_leaf: 5\n",
      "accuracy: 0.6891, precision: 0.6022, recall: 0.6154, f1: 0.6087\n",
      "max_depth: 5, min_samples_split: 3, min_samples_leaf: 8\n",
      "accuracy: 0.6805, precision: 0.5914, recall: 0.6044, f1: 0.5978\n",
      "max_depth: 5, min_samples_split: 5, min_samples_leaf: 1\n",
      "accuracy: 0.6891, precision: 0.6049, recall: 0.6022, f1: 0.6035\n",
      "max_depth: 5, min_samples_split: 5, min_samples_leaf: 5\n",
      "accuracy: 0.6908, precision: 0.6052, recall: 0.6132, f1: 0.6092\n",
      "max_depth: 5, min_samples_split: 5, min_samples_leaf: 8\n",
      "accuracy: 0.6900, precision: 0.6039, recall: 0.6132, f1: 0.6085\n",
      "max_depth: 10, min_samples_split: 2, min_samples_leaf: 1\n",
      "accuracy: 0.6874, precision: 0.6026, recall: 0.6000, f1: 0.6013\n",
      "max_depth: 10, min_samples_split: 2, min_samples_leaf: 5\n",
      "accuracy: 0.6943, precision: 0.6156, recall: 0.5912, f1: 0.6031\n",
      "max_depth: 10, min_samples_split: 2, min_samples_leaf: 8\n",
      "accuracy: 0.6908, precision: 0.6100, recall: 0.5912, f1: 0.6004\n",
      "max_depth: 10, min_samples_split: 3, min_samples_leaf: 1\n",
      "accuracy: 0.6831, precision: 0.6005, recall: 0.5780, f1: 0.5890\n",
      "max_depth: 10, min_samples_split: 3, min_samples_leaf: 5\n",
      "accuracy: 0.6891, precision: 0.6049, recall: 0.6022, f1: 0.6035\n",
      "max_depth: 10, min_samples_split: 3, min_samples_leaf: 8\n",
      "accuracy: 0.6874, precision: 0.6036, recall: 0.5956, f1: 0.5996\n",
      "max_depth: 10, min_samples_split: 5, min_samples_leaf: 1\n",
      "accuracy: 0.6839, precision: 0.6005, recall: 0.5846, f1: 0.5924\n",
      "max_depth: 10, min_samples_split: 5, min_samples_leaf: 5\n",
      "accuracy: 0.6865, precision: 0.6031, recall: 0.5912, f1: 0.5971\n",
      "max_depth: 10, min_samples_split: 5, min_samples_leaf: 8\n",
      "accuracy: 0.6960, precision: 0.6189, recall: 0.5890, f1: 0.6036\n",
      "best params: {'max_depth': 10, 'min_samples_split': 5, 'min_samples_leaf': 8}\n",
      "best accuracy: 0.6960\n",
      "accuracy: 0.6574, precision: 0.8202, recall: 0.5949, f1: 0.6896\n",
      "[[657 198]\n",
      " [615 903]]\n"
     ]
    }
   ],
   "source": [
    "best_acc = 0\n",
    "best_params = {}\n",
    "for max_depth in params['max_depth']:\n",
    "    for min_samples_split in params['min_samples_split']:\n",
    "        for min_samples_leaf in params['min_samples_leaf']:\n",
    "            rf_clf = RandomForestClassifier(max_depth=max_depth, min_samples_split=min_samples_split, min_samples_leaf=min_samples_leaf, max_features=7)\n",
    "            rf_clf.fit(x_train, y_train)\n",
    "            pred = rf_clf.predict(x_valid)\n",
    "            print('max_depth: {0}, min_samples_split: {1}, min_samples_leaf: {2}'.format(max_depth, min_samples_split, min_samples_leaf))\n",
    "            print('accuracy: {0:.4f}, precision: {1:.4f}, recall: {2:.4f}, f1: {3:.4f}'.format(accuracy_score(y_valid, pred), precision_score(y_valid, pred), recall_score(y_valid, pred), f1_score(y_valid, pred)))\n",
    "\n",
    "            if accuracy_score(y_valid, pred) > best_acc:\n",
    "                best_acc = accuracy_score(y_valid, pred)\n",
    "                best_params['max_depth'] = max_depth\n",
    "                best_params['min_samples_split'] = min_samples_split\n",
    "                best_params['min_samples_leaf'] = min_samples_leaf\n",
    "\n",
    "print('best params: {0}'.format(best_params))\n",
    "print('best accuracy: {0:.4f}'.format(best_acc))\n",
    "rf_clf = RandomForestClassifier(max_depth=best_params['max_depth'], min_samples_split=best_params['min_samples_split'], min_samples_leaf=best_params['min_samples_leaf'], max_features=7)\n",
    "rf_clf.fit(x_train, y_train)\n",
    "pred = rf_clf.predict(x_test)\n",
    "print('accuracy: {0:.4f}, precision: {1:.4f}, recall: {2:.4f}, f1: {3:.4f}'.format(accuracy_score(y_test, pred), precision_score(y_test, pred), recall_score(y_test, pred), f1_score(y_test, pred)))\n",
    "print(confusion_matrix(y_test, pred))"
   ]
  },
  {
   "cell_type": "code",
   "execution_count": 31,
   "metadata": {},
   "outputs": [
    {
     "data": {
      "image/png": "[encoded data removed]",
      "text/plain": [
       "<Figure size 640x480 with 2 Axes>"
      ]
     },
     "metadata": {},
     "output_type": "display_data"
    }
   ],
   "source": [
    "import seaborn as sns\n",
    "import matplotlib.pyplot as plt\n",
    "sns.heatmap(confusion_matrix(y_test, pred), annot=True, fmt='d', cmap='Blues')\n",
    "plt.xlabel('Predicted')\n",
    "plt.ylabel('True')\n",
    "plt.show()"
   ]
  },
  {
   "cell_type": "code",
   "execution_count": 35,
   "metadata": {},
   "outputs": [
    {
     "name": "stdout",
     "output_type": "stream",
     "text": [
      "Feature Importances:\n",
      "[0.43303648 0.         0.00515803 0.00568505 0.03150298 0.036997\n",
      " 0.04141376 0.03691384 0.04069658 0.04011412 0.04482628 0.05090851\n",
      " 0.03677999 0.03963064 0.03193815 0.0426767  0.03934604 0.04237584]\n",
      "\n",
      "Age: 0.433\n",
      "Sex: 0.000\n",
      "HTN: 0.005\n",
      "DM: 0.006\n",
      "HDL: 0.032\n",
      "LDL: 0.037\n",
      "Triglyceride: 0.041\n",
      "Cholesterol: 0.037\n",
      "HOMA: 0.041\n",
      "Insulin: 0.040\n",
      "Ferritin: 0.045\n",
      "HbA1C: 0.051\n",
      "ESR: 0.037\n",
      "Homocysteine: 0.040\n",
      "Apolipoprotein A: 0.032\n",
      "Apolipoprotein B: 0.043\n",
      "Lp(a): 0.039\n",
      "HS-CRP: 0.042\n",
      "[0.43303648 0.         0.00515803 0.00568505 0.03150298 0.036997\n",
      " 0.04141376 0.03691384 0.04069658 0.04011412 0.04482628 0.05090851\n",
      " 0.03677999 0.03963064 0.03193815 0.0426767  0.03934604 0.04237584]\n"
     ]
    },
    {
     "data": {
      "text/plain": [
       "<Axes: ylabel='Feature'>"
      ]
     },
     "execution_count": 35,
     "metadata": {},
     "output_type": "execute_result"
    },
    {
     "data": {
      "image/png": "[encoded data removed]",
      "text/plain": [
       "<Figure size 1000x600 with 1 Axes>"
      ]
     },
     "metadata": {},
     "output_type": "display_data"
    }
   ],
   "source": [
    "feature = x_test.columns.tolist()\n",
    "print(\"Feature Importances:\\n{0}\\n\".format(rf_clf.feature_importances_))\n",
    "for name, value in zip(train_data.columns, rf_clf.feature_importances_):\n",
    "    print('{0}: {1:.3f}'.format(name, value))\n",
    "print(rf_clf.feature_importances_)\n",
    "feature_importance = pd.DataFrame({'Feature':feature,'Importance':rf_clf.feature_importances_})\n",
    "feature_importance.sort_values(by=['Importance'], ascending=True, inplace=True)\n",
    "feature_importance.plot(x='Feature', y='Importance', kind='barh', figsize=(10, 6), color='dodgerblue')"
   ]
  }
 ],
 "metadata": {
  "kernelspec": {
   "display_name": "Python 3",
   "language": "python",
   "name": "python3"
  },
  "language_info": {
   "codemirror_mode": {
    "name": "ipython",
    "version": 3
   },
   "file_extension": ".py",
   "mimetype": "text/x-python",
   "name": "python",
   "nbconvert_exporter": "python",
   "pygments_lexer": "ipython3",
   "version": "3.10.9"
  },
  "orig_nbformat": 4
 },
 "nbformat": 4,
 "nbformat_minor": 2
}
